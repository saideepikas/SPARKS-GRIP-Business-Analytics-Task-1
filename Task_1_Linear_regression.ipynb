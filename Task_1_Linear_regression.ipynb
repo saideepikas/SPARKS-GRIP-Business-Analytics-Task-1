{
  "nbformat": 4,
  "nbformat_minor": 0,
  "metadata": {
    "colab": {
      "name": "Task 1: Linear regression.ipynb",
      "provenance": [],
      "collapsed_sections": []
    },
    "kernelspec": {
      "name": "python3",
      "display_name": "Python 3"
    },
    "language_info": {
      "name": "python"
    }
  },
  "cells": [
    {
      "cell_type": "markdown",
      "metadata": {
        "id": "oxyCQk98E29c"
      },
      "source": [
        "Name: Sai Deepika Sunkesula\n",
        "\n",
        "# Task 1: Prediction using supervised ML"
      ]
    },
    {
      "cell_type": "markdown",
      "metadata": {
        "id": "ZRSglYoxFFbb"
      },
      "source": [
        "### Importing required libraries and reading dataset"
      ]
    },
    {
      "cell_type": "code",
      "metadata": {
        "colab": {
          "base_uri": "https://localhost:8080/",
          "height": 203
        },
        "id": "ITxUAL2gzUtw",
        "outputId": "a9a189c5-c463-4e27-d3db-cdc4a165f21f"
      },
      "source": [
        "import pandas as pd\n",
        "from sklearn import datasets, linear_model\n",
        "from sklearn.model_selection import train_test_split\n",
        "import matplotlib.pyplot as plt\n",
        "from tabulate import tabulate\n",
        "import numpy as np\n",
        "\n",
        "# Read student scores from csv file.\n",
        "dataset_url = \"https://raw.githubusercontent.com/AdiPersonalWorks/Random/master/student_scores%20-%20student_scores.csv\"\n",
        "student_scores_df = pd.read_csv(dataset_url)\n",
        "student_scores_df.head()"
      ],
      "execution_count": 4,
      "outputs": [
        {
          "output_type": "execute_result",
          "data": {
            "text/html": [
              "<div>\n",
              "<style scoped>\n",
              "    .dataframe tbody tr th:only-of-type {\n",
              "        vertical-align: middle;\n",
              "    }\n",
              "\n",
              "    .dataframe tbody tr th {\n",
              "        vertical-align: top;\n",
              "    }\n",
              "\n",
              "    .dataframe thead th {\n",
              "        text-align: right;\n",
              "    }\n",
              "</style>\n",
              "<table border=\"1\" class=\"dataframe\">\n",
              "  <thead>\n",
              "    <tr style=\"text-align: right;\">\n",
              "      <th></th>\n",
              "      <th>Hours</th>\n",
              "      <th>Scores</th>\n",
              "    </tr>\n",
              "  </thead>\n",
              "  <tbody>\n",
              "    <tr>\n",
              "      <th>0</th>\n",
              "      <td>2.5</td>\n",
              "      <td>21</td>\n",
              "    </tr>\n",
              "    <tr>\n",
              "      <th>1</th>\n",
              "      <td>5.1</td>\n",
              "      <td>47</td>\n",
              "    </tr>\n",
              "    <tr>\n",
              "      <th>2</th>\n",
              "      <td>3.2</td>\n",
              "      <td>27</td>\n",
              "    </tr>\n",
              "    <tr>\n",
              "      <th>3</th>\n",
              "      <td>8.5</td>\n",
              "      <td>75</td>\n",
              "    </tr>\n",
              "    <tr>\n",
              "      <th>4</th>\n",
              "      <td>3.5</td>\n",
              "      <td>30</td>\n",
              "    </tr>\n",
              "  </tbody>\n",
              "</table>\n",
              "</div>"
            ],
            "text/plain": [
              "   Hours  Scores\n",
              "0    2.5      21\n",
              "1    5.1      47\n",
              "2    3.2      27\n",
              "3    8.5      75\n",
              "4    3.5      30"
            ]
          },
          "metadata": {},
          "execution_count": 4
        }
      ]
    },
    {
      "cell_type": "markdown",
      "metadata": {
        "id": "EmYvLezkHVJh"
      },
      "source": [
        "### Visualize the data and Separate dataset into training, validation sets"
      ]
    },
    {
      "cell_type": "code",
      "metadata": {
        "id": "Utl2Nz2DHpos",
        "colab": {
          "base_uri": "https://localhost:8080/",
          "height": 279
        },
        "outputId": "574fe0c9-3251-45ae-a14f-7be6aab2ad76"
      },
      "source": [
        "# Separate dataframe to input (Hours), output (Scores) columns.\n",
        "X = student_scores_df[\"Hours\"].values.reshape(-1, 1)\n",
        "y = student_scores_df[\"Scores\"].values.reshape(-1, 1)\n",
        "\n",
        "# Visualize the data on a plot\n",
        "plt.scatter(X, y, color=\"blue\")\n",
        "plt.xlabel(\"Hours per day\")\n",
        "plt.ylabel(\"Scores\")\n",
        "plt.show()\n",
        "\n",
        "# Separate dataset into training and validation sets.\n",
        "# Use a fixed random state to get deterministic results across runs.\n",
        "X_train, X_val, y_train, y_val = train_test_split(X, y, test_size=0.2, random_state=10)\n",
        "\n",
        "# Also initialize X_test, for the given test value of 9.25 hrs/day.\n",
        "# We have to predict the score for this input, using fitted regression model.\n",
        "X_test = np.array([9.25])"
      ],
      "execution_count": 5,
      "outputs": [
        {
          "output_type": "display_data",
          "data": {
            "image/png": "[encoded data removed]",
            "text/plain": [
              "<Figure size 432x288 with 1 Axes>"
            ]
          },
          "metadata": {
            "needs_background": "light"
          }
        }
      ]
    },
    {
      "cell_type": "code",
      "metadata": {
        "id": "sCn1TwdSLEMH",
        "colab": {
          "base_uri": "https://localhost:8080/"
        },
        "outputId": "7a01de89-2e2e-4a4e-d7d1-a6855b24ca2c"
      },
      "source": [
        "regressor = linear_model.LinearRegression()\n",
        "regressor.fit(X_train, y_train)"
      ],
      "execution_count": 6,
      "outputs": [
        {
          "output_type": "execute_result",
          "data": {
            "text/plain": [
              "LinearRegression(copy_X=True, fit_intercept=True, n_jobs=None, normalize=False)"
            ]
          },
          "metadata": {},
          "execution_count": 6
        }
      ]
    },
    {
      "cell_type": "markdown",
      "metadata": {
        "id": "ZzsovlPsH1Qx"
      },
      "source": [
        "### Visualize the regression line along with actual data points"
      ]
    },
    {
      "cell_type": "code",
      "metadata": {
        "colab": {
          "base_uri": "https://localhost:8080/",
          "height": 295
        },
        "id": "0ZCjX08lSZtI",
        "outputId": "fcd82d1e-e89a-4b8f-b590-f30f352bdb9b"
      },
      "source": [
        "# Plot using coefficients obtained from gradient descent\n",
        "y_predicted = regressor.predict(X)\n",
        "\n",
        "plt.plot(X, y_predicted, color=\"green\")\n",
        "plt.scatter(X, y, color=\"blue\", s=20)\n",
        "plt.xlabel(\"Hours per day\")\n",
        "plt.ylabel(\"Scores\")\n",
        "plt.title(\"Visualization of actual data with fitted regression line\")\n",
        "plt.show()"
      ],
      "execution_count": 7,
      "outputs": [
        {
          "output_type": "display_data",
          "data": {
            "image/png": "[encoded data removed]",
            "text/plain": [
              "<Figure size 432x288 with 1 Axes>"
            ]
          },
          "metadata": {
            "needs_background": "light"
          }
        }
      ]
    },
    {
      "cell_type": "markdown",
      "metadata": {
        "id": "8DfIw6koJMYU"
      },
      "source": [
        "### Compare the actual scores and predicted scores for validation set"
      ]
    },
    {
      "cell_type": "code",
      "metadata": {
        "colab": {
          "base_uri": "https://localhost:8080/"
        },
        "id": "wR-Y1FArDjwv",
        "outputId": "f685819d-a46e-43ed-c46e-e89d53800c74"
      },
      "source": [
        "# Display the predicted scores for the validation set.\n",
        "y_val_predicted = regressor.predict(X_val)\n",
        "\n",
        "table_data = np.transpose(np.array([X_val.reshape(-1), y_val.reshape(-1), y_val_predicted.reshape(-1)]))\n",
        "print(\"Predictions for validation set using regression line:\")\n",
        "print(tabulate(table_data.tolist(), headers=['Hours', 'Actual Score', 'Predicted Score']))\n",
        "print()\n",
        "\n",
        "# Compute mean-absolute error for validation set.\n",
        "from sklearn import metrics  \n",
        "print(\"Mean Absolute Error for predictions on validation set:\", \n",
        "      metrics.mean_absolute_error(y_val, y_val_predicted)) "
      ],
      "execution_count": 8,
      "outputs": [
        {
          "output_type": "stream",
          "name": "stdout",
          "text": [
            "Predictions for validation set using regression line:\n",
            "  Hours    Actual Score    Predicted Score\n",
            "-------  --------------  -----------------\n",
            "    1.5              20            17.3714\n",
            "    5.1              47            52.7029\n",
            "    3.3              42            35.0372\n",
            "    3.2              27            34.0557\n",
            "    4.5              41            46.8143\n",
            "\n",
            "Mean Absolute Error for predictions on validation set: 5.632881746692994\n"
          ]
        }
      ]
    },
    {
      "cell_type": "markdown",
      "metadata": {
        "id": "kecndzXCKlo6"
      },
      "source": [
        "### Predicting the score for given test data"
      ]
    },
    {
      "cell_type": "code",
      "metadata": {
        "colab": {
          "base_uri": "https://localhost:8080/"
        },
        "id": "A34kzOqATSl1",
        "outputId": "183e5fc2-025e-46c5-fc0d-6c1203102dbc"
      },
      "source": [
        "# Predict the marks for test set.\n",
        "y_test_predicted = regressor.predict(X_test.reshape(-1, 1))\n",
        "print(\"Predicted score for \", X_test[0], \" hours per day is: \", y_test_predicted[0, 0])"
      ],
      "execution_count": 9,
      "outputs": [
        {
          "output_type": "stream",
          "name": "stdout",
          "text": [
            "Predicted score for  9.25  hours per day is:  93.43229053722453\n"
          ]
        }
      ]
    }
  ]
}